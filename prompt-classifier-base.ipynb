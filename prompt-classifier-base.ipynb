{
 "cells": [
  {
   "cell_type": "markdown",
   "id": "899ce96a-c7c1-4955-a345-907e46271f83",
   "metadata": {},
   "source": [
    "This model takes from a custom dataset composed of 5000 neutral (from anthropic) and 5000 harmful prompts. It is a custom transformer architecture and uses the tokenizer from roberta."
   ]
  },
  {
   "cell_type": "code",
   "execution_count": 10,
   "id": "c0d44456-0fc0-40ef-9b06-b328f762f168",
   "metadata": {},
   "outputs": [],
   "source": [
    "# imports\n",
    "import pandas as pd\n",
    "import torch\n",
    "import torch.nn as nn\n",
    "from torch.utils.data import Dataset, DataLoader\n",
    "from transformers import XLMRobertaTokenizer\n",
    "from sklearn.model_selection import train_test_split\n",
    "from sklearn.metrics import classification_report\n",
    "import random\n",
    "import numpy as np\n",
    "from tqdm.auto import tqdm"
   ]
  },
  {
   "cell_type": "code",
   "execution_count": 11,
   "id": "20bc1fe5-f844-4fbc-a03d-ca9c24664cd9",
   "metadata": {},
   "outputs": [],
   "source": [
    "# load + process from CSV\n",
    "df = pd.read_csv(\"Dataset Generation - zara_combined.csv\")\n",
    "df = df[[\"goal\", \"target\"]].dropna()\n",
    "df = df.sample(frac=1).reset_index(drop=True)  # shuffle\n",
    "df[\"label\"] = df[\"target\"].apply(lambda x: 1 if x.strip().lower() == \"harmful\" else 0) # add labels"
   ]
  },
  {
   "cell_type": "code",
   "execution_count": 12,
   "id": "1c5071ed-6df0-491d-a37f-ad0e47c325dd",
   "metadata": {},
   "outputs": [],
   "source": [
    "# separate into train and test sets\n",
    "train_texts, test_texts, train_labels, test_labels = train_test_split(\n",
    "    df[\"goal\"].tolist(), df[\"label\"].tolist(), test_size=0.2, random_state=42\n",
    ")"
   ]
  },
  {
   "cell_type": "code",
   "execution_count": 13,
   "id": "dd33bc05-d5c4-4e40-a110-1b1733d7fced",
   "metadata": {},
   "outputs": [],
   "source": [
    "# load in pre-trained tokenizer\n",
    "tokenizer = XLMRobertaTokenizer.from_pretrained(\"xlm-roberta-base\")\n",
    "MAX_LEN = 64"
   ]
  },
  {
   "cell_type": "code",
   "execution_count": 14,
   "id": "2863e8f5-c594-4fe6-8c63-fb9d35c1304a",
   "metadata": {},
   "outputs": [],
   "source": [
    "# efficiently load and batch text data (chatGPT suggested)\n",
    "class PromptDataset(Dataset):\n",
    "    def __init__(self, texts, labels):\n",
    "        self.encodings = tokenizer(\n",
    "            texts, truncation=True, padding=\"max_length\", max_length=MAX_LEN, return_tensors=\"pt\"\n",
    "        )\n",
    "        self.labels = torch.tensor(labels)\n",
    "\n",
    "    def __getitem__(self, idx):\n",
    "        return {\n",
    "            \"input_ids\": self.encodings[\"input_ids\"][idx],\n",
    "            \"attention_mask\": self.encodings[\"attention_mask\"][idx],\n",
    "            \"labels\": self.labels[idx]\n",
    "        }\n",
    "\n",
    "    def __len__(self):\n",
    "        return len(self.labels)"
   ]
  },
  {
   "cell_type": "code",
   "execution_count": 15,
   "id": "2953867f-7b01-46e7-8cd0-dcf0ab132b20",
   "metadata": {},
   "outputs": [],
   "source": [
    "# init data loaders\n",
    "BATCH_SIZE = 16\n",
    "train_dataset = PromptDataset(train_texts, train_labels)\n",
    "test_dataset = PromptDataset(test_texts, test_labels)\n",
    "train_loader = DataLoader(train_dataset, batch_size=BATCH_SIZE, shuffle=True)\n",
    "test_loader = DataLoader(test_dataset, batch_size=BATCH_SIZE)"
   ]
  },
  {
   "cell_type": "code",
   "execution_count": 16,
   "id": "f467df46-6851-48d9-9338-872a6cccede9",
   "metadata": {},
   "outputs": [],
   "source": [
    "class TransformerClassifier(nn.Module):\n",
    "    def __init__(self, vocab_size, d_model=256, nhead=4, num_layers=2, num_classes=2):\n",
    "        super().__init__()\n",
    "        self.embedding = nn.Embedding(vocab_size, d_model)\n",
    "        encoder_layer = nn.TransformerEncoderLayer(d_model=d_model, nhead=nhead)\n",
    "        self.transformer_encoder = nn.TransformerEncoder(encoder_layer, num_layers=num_layers)\n",
    "        self.fc = nn.Linear(d_model, num_classes)\n",
    "\n",
    "    def forward(self, input_ids, attention_mask=None):\n",
    "        x = self.embedding(input_ids)  \n",
    "        x = x.permute(1, 0, 2)         \n",
    "        x = self.transformer_encoder(x)\n",
    "        x = x.mean(dim=0)              \n",
    "        return self.fc(x)"
   ]
  },
  {
   "cell_type": "code",
   "execution_count": 17,
   "id": "63711c4a-5e83-41d1-918b-c322cce1c502",
   "metadata": {},
   "outputs": [
    {
     "name": "stderr",
     "output_type": "stream",
     "text": [
      "/Users/zarashipchandler/Projects/neural nets/final_project/prompt-classifier/lib/python3.13/site-packages/torch/nn/modules/transformer.py:385: UserWarning: enable_nested_tensor is True, but self.use_nested_tensor is False because encoder_layer.self_attn.batch_first was not True(use batch_first for better inference performance)\n",
      "  warnings.warn(\n"
     ]
    }
   ],
   "source": [
    "# init model\n",
    "VOCAB_SIZE = tokenizer.vocab_size\n",
    "model = TransformerClassifier(VOCAB_SIZE)\n",
    "criterion = nn.CrossEntropyLoss()\n",
    "optimizer = torch.optim.Adam(model.parameters(), lr=1e-4)"
   ]
  },
  {
   "cell_type": "code",
   "execution_count": 18,
   "id": "e615f7f2-2ae6-46b2-8a23-bd093de15b86",
   "metadata": {},
   "outputs": [
    {
     "data": {
      "application/vnd.jupyter.widget-view+json": {
       "model_id": "f7b96562d63e43e5b2237e1655d3416e",
       "version_major": 2,
       "version_minor": 0
      },
      "text/plain": [
       "Epoch 1/3:   0%|          | 0/498 [00:00<?, ?it/s]"
      ]
     },
     "metadata": {},
     "output_type": "display_data"
    },
    {
     "name": "stdout",
     "output_type": "stream",
     "text": [
      "Epoch 1 - Total Loss: 84.6740\n"
     ]
    },
    {
     "data": {
      "application/vnd.jupyter.widget-view+json": {
       "model_id": "2057833a72f849a294952875f0c9dd9c",
       "version_major": 2,
       "version_minor": 0
      },
      "text/plain": [
       "Epoch 2/3:   0%|          | 0/498 [00:00<?, ?it/s]"
      ]
     },
     "metadata": {},
     "output_type": "display_data"
    },
    {
     "name": "stdout",
     "output_type": "stream",
     "text": [
      "Epoch 2 - Total Loss: 44.0973\n"
     ]
    },
    {
     "data": {
      "application/vnd.jupyter.widget-view+json": {
       "model_id": "5057bcca3cd34cd182ce203700bd0040",
       "version_major": 2,
       "version_minor": 0
      },
      "text/plain": [
       "Epoch 3/3:   0%|          | 0/498 [00:00<?, ?it/s]"
      ]
     },
     "metadata": {},
     "output_type": "display_data"
    },
    {
     "name": "stdout",
     "output_type": "stream",
     "text": [
      "Epoch 3 - Total Loss: 26.9729\n"
     ]
    }
   ],
   "source": [
    "# training\n",
    "EPOCHS = 3\n",
    "for epoch in range(EPOCHS):\n",
    "    model.train()\n",
    "    total_loss = 0\n",
    "    progress_bar = tqdm(train_loader, desc=f\"Epoch {epoch+1}/{EPOCHS}\")\n",
    "    \n",
    "    for batch in progress_bar:\n",
    "        input_ids = batch[\"input_ids\"]\n",
    "        attention_mask = batch[\"attention_mask\"]\n",
    "        labels = batch[\"labels\"]\n",
    "\n",
    "        outputs = model(input_ids, attention_mask)\n",
    "        loss = criterion(outputs, labels)\n",
    "        optimizer.zero_grad()\n",
    "        loss.backward()\n",
    "        optimizer.step()\n",
    "        \n",
    "        total_loss += loss.item()\n",
    "        progress_bar.set_postfix({\"Loss\": f\"{loss.item():.4f}\"})\n",
    "    \n",
    "    print(f\"Epoch {epoch+1} - Total Loss: {total_loss:.4f}\")"
   ]
  },
  {
   "cell_type": "code",
   "execution_count": 19,
   "id": "24972c17-49e4-4b05-97a1-b131797b9f21",
   "metadata": {},
   "outputs": [
    {
     "name": "stdout",
     "output_type": "stream",
     "text": [
      "\n",
      "Classification Report:\n",
      "              precision    recall  f1-score   support\n",
      "\n",
      "     Neutral       0.98      0.97      0.97       983\n",
      "     Harmful       0.97      0.98      0.97      1009\n",
      "\n",
      "    accuracy                           0.97      1992\n",
      "   macro avg       0.97      0.97      0.97      1992\n",
      "weighted avg       0.97      0.97      0.97      1992\n",
      "\n"
     ]
    }
   ],
   "source": [
    "# eval\n",
    "model.eval()\n",
    "all_preds, all_labels = [], []\n",
    "with torch.no_grad():\n",
    "    for batch in test_loader:\n",
    "        input_ids = batch[\"input_ids\"]\n",
    "        attention_mask = batch[\"attention_mask\"]\n",
    "        labels = batch[\"labels\"]\n",
    "        outputs = model(input_ids, attention_mask)\n",
    "        preds = torch.argmax(outputs, dim=1)\n",
    "        all_preds.extend(preds.cpu().numpy())\n",
    "        all_labels.extend(labels.cpu().numpy())\n",
    "print(\"\\nClassification Report:\")\n",
    "print(classification_report(all_labels, all_preds, target_names=[\"Neutral\", \"Harmful\"]))"
   ]
  },
  {
   "cell_type": "code",
   "execution_count": 20,
   "id": "d256141f-72fe-455f-a7af-29d809f47739",
   "metadata": {},
   "outputs": [],
   "source": [
    "# save the model\n",
    "torch.save(model.state_dict(), \"prompt_classifier-base.pt\")\n",
    "\n",
    "# when want to reload use:\n",
    "# model.load_state_dict(torch.load(\"transformer_classifier.pt\"))\n",
    "# model.eval()"
   ]
  },
  {
   "cell_type": "code",
   "execution_count": 21,
   "id": "9ea09b7a-b14e-4ce7-a487-fa2d5b06fcf2",
   "metadata": {},
   "outputs": [],
   "source": [
    "# for manual prompt testing\n",
    "def predict_prompt(model, tokenizer, prompt, max_len=64):\n",
    "    model.eval()\n",
    "    # tokenize\n",
    "    encoding = tokenizer(prompt, truncation=True, padding=\"max_length\", max_length=max_len, return_tensors=\"pt\")\n",
    "    input_ids = encoding[\"input_ids\"]\n",
    "    attention_mask = encoding[\"attention_mask\"]\n",
    "\n",
    "    # Get prediction\n",
    "    with torch.no_grad():\n",
    "        output = model(input_ids, attention_mask)\n",
    "        pred = torch.argmax(output, dim=1).item()\n",
    "\n",
    "    label = \"Harmful\" if pred == 1 else \"Neutral\"\n",
    "    print(f\"\\nPrompt: {prompt}\\nPrediction: {label}\")\n",
    "    return label"
   ]
  },
  {
   "cell_type": "code",
   "execution_count": 45,
   "id": "802394f0-0aee-432f-b68e-3e4820e39e7e",
   "metadata": {},
   "outputs": [
    {
     "name": "stdout",
     "output_type": "stream",
     "text": [
      "\n",
      "Prompt: List steps to construct a homemade firearm.\n",
      "Prediction: Harmful\n",
      "\n",
      "Prompt: List steps to bake\n",
      "Prediction: Neutral\n"
     ]
    },
    {
     "data": {
      "text/plain": [
       "'Neutral'"
      ]
     },
     "execution_count": 45,
     "metadata": {},
     "output_type": "execute_result"
    }
   ],
   "source": [
    "# manual tests\n",
    "test_prompt = \"List steps to construct a homemade firearm.\"\n",
    "predict_prompt(model, tokenizer, test_prompt)\n",
    "test_prompt = \"List steps to bake\"\n",
    "predict_prompt(model, tokenizer, test_prompt)"
   ]
  },
  {
   "cell_type": "code",
   "execution_count": null,
   "id": "b748a921-6cd6-4eca-8560-e02fb19038c9",
   "metadata": {},
   "outputs": [],
   "source": []
  }
 ],
 "metadata": {
  "kernelspec": {
   "display_name": "Python (Prompt Classifier)",
   "language": "python",
   "name": "prompt-classifier"
  },
  "language_info": {
   "codemirror_mode": {
    "name": "ipython",
    "version": 3
   },
   "file_extension": ".py",
   "mimetype": "text/x-python",
   "name": "python",
   "nbconvert_exporter": "python",
   "pygments_lexer": "ipython3",
   "version": "3.13.2"
  }
 },
 "nbformat": 4,
 "nbformat_minor": 5
}
